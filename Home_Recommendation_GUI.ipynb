{
 "cells": [
  {
   "cell_type": "code",
   "execution_count": 1,
   "metadata": {},
   "outputs": [],
   "source": [
    "import pandas as pd"
   ]
  },
  {
   "cell_type": "code",
   "execution_count": 2,
   "metadata": {},
   "outputs": [],
   "source": [
    "from sklearn.model_selection import train_test_split\n",
    "from sklearn.linear_model import LinearRegression\n"
   ]
  },
  {
   "cell_type": "code",
   "execution_count": 3,
   "metadata": {},
   "outputs": [],
   "source": [
    "import tkinter as tk"
   ]
  },
  {
   "cell_type": "code",
   "execution_count": 4,
   "metadata": {},
   "outputs": [],
   "source": [
    "import warnings\n",
    "warnings.filterwarnings('ignore')"
   ]
  },
  {
   "cell_type": "code",
   "execution_count": 5,
   "metadata": {},
   "outputs": [],
   "source": [
    "m=pd.read_pickle('house_price_prediction.pkl')\n",
    "\n",
    "app=tk.Tk()\n",
    "app.geometry('450x400')\n",
    "app.configure(bg = 'Blue')\n",
    "app.title('House_Price_Predictor')\n",
    "\n",
    "income =tk.Variable(app)\n",
    "house_age =tk.Variable(app)\n",
    "rooms=tk.Variable(app)\n",
    "population=tk.Variable(app)\n",
    "m=pd.read_pickle('house_price_prediction.pkl')\n",
    "\n",
    "predicted_price=tk.Variable(app)\n",
    "predicted_price.set('')\n",
    "\n",
    "def houseprice():\n",
    "    inc=eval(income.get())\n",
    "    age=eval(house_age.get())\n",
    "    room=eval(rooms.get())\n",
    "    pop=eval(population.get())         \n",
    "    query=pd.DataFrame({'Income':[inc],'House_Age':[age],'No.Of Room':[room],'Population':[pop]})\n",
    "    predicted_price.set(round(m.predict(query)[0],2))\n",
    "    \n",
    "label=tk.Variable(app)\n",
    "label.set('***HOUSE PRICE RECOMENDATION SYSTEM***')\n",
    "tk.Label(app,textvariable=label,font=('Courier',15),bg='white',fg='red').pack()\n",
    "\n",
    "entry_income=tk.Entry(app,textvariable = income,width=18)\n",
    "entry_income.place(x=230,y=50,height=25)\n",
    "label1=tk.Label(app,text='Enter Income',bg='white',font='bold').place(x=5,y=50) \n",
    "\n",
    "entry_age=tk.Entry(app,textvariable=house_age)\n",
    "entry_age.place(x=230,y=100,height=25)\n",
    "label2=tk.Label(app,text='Enter House Age',bg='white',font='bold').place(x=5,y=100)\n",
    "\n",
    "entry_room=tk.Entry(app,textvariable=rooms)\n",
    "entry_room.place(x=230,y=150,height=25)\n",
    "label3=tk.Label(app,text='Enter No. Of Rooms',bg='white',font='bold').place(x=5,y=150)\n",
    "\n",
    "entry_pop=tk.Entry(app,textvariable=population)\n",
    "entry_pop.place(x=230,y=200,height=25)\n",
    "label4=tk.Label(app,text='Enter Area Population',bg='white',font='bold').place(x=5,y=200)\n",
    "\n",
    "label5=tk.Label(app,textvariable=predicted_price,text='Price_of_house').place(x=200,y=300,height=20)\n",
    "button=tk.Button(app,text='Calculate Price of House ',font='bold',command=houseprice,bg='Green',fg='white').place(x=120,y=250,height=30)\n",
    "\n",
    "\n",
    "\n",
    "    \n",
    "app.mainloop()"
   ]
  },
  {
   "cell_type": "code",
   "execution_count": null,
   "metadata": {},
   "outputs": [],
   "source": []
  }
 ],
 "metadata": {
  "kernelspec": {
   "display_name": "Python 3",
   "language": "python",
   "name": "python3"
  },
  "language_info": {
   "codemirror_mode": {
    "name": "ipython",
    "version": 3
   },
   "file_extension": ".py",
   "mimetype": "text/x-python",
   "name": "python",
   "nbconvert_exporter": "python",
   "pygments_lexer": "ipython3",
   "version": "3.8.5"
  }
 },
 "nbformat": 4,
 "nbformat_minor": 4
}
